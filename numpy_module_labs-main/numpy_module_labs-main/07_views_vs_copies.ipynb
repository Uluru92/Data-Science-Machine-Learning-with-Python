{
 "cells": [
  {
   "cell_type": "markdown",
   "metadata": {},
   "source": [
    "# 07 Views and Copies in Numpy Exercises\n",
    "\n",
    "**Note**: If any exercises require techniques we haven't covered yet - you should look this up! It's part of the learning process, we need to build the muscle of learning how to do things we haven't seen before.\n",
    "\n",
    "Don't be shy, ask for help on Discord!\n",
    "\n",
    "You don't need to do all these (it's a lot!). As soon as you get the gist, feel free to move on.\n",
    "\n",
    "1. Create a 1D NumPy array with 10 elements. Create a view of the first 5 elements and modify the 3rd element of the view. Check if the original array has been modified.\n"
   ]
  },
  {
   "cell_type": "code",
   "execution_count": null,
   "metadata": {
    "vscode": {
     "languageId": "plaintext"
    }
   },
   "outputs": [],
   "source": []
  },
  {
   "cell_type": "markdown",
   "metadata": {},
   "source": [
    "\n",
    "2. Create a 1D NumPy array with 10 elements. Create a copy of the first 5 elements and modify the 3rd element of the copy. Check if the original array has been modified.\n"
   ]
  },
  {
   "cell_type": "code",
   "execution_count": null,
   "metadata": {
    "vscode": {
     "languageId": "plaintext"
    }
   },
   "outputs": [],
   "source": []
  },
  {
   "cell_type": "markdown",
   "metadata": {},
   "source": [
    "\n",
    "3. Create a 2D NumPy array with 4 rows and 5 columns. Create a view of the first 2 rows and modify the element at (1, 1). Check if the original array has been modified.\n"
   ]
  },
  {
   "cell_type": "code",
   "execution_count": null,
   "metadata": {
    "vscode": {
     "languageId": "plaintext"
    }
   },
   "outputs": [],
   "source": []
  },
  {
   "cell_type": "markdown",
   "metadata": {},
   "source": [
    "\n",
    "4. Create a 2D NumPy array with 4 rows and 5 columns. Create a copy of the first 2 rows and modify the element at (1, 1). Check if the original array has been modified.\n"
   ]
  },
  {
   "cell_type": "code",
   "execution_count": null,
   "metadata": {
    "vscode": {
     "languageId": "plaintext"
    }
   },
   "outputs": [],
   "source": []
  },
  {
   "cell_type": "markdown",
   "metadata": {},
   "source": [
    "\n",
    "5. Create a 1D NumPy array with 10 elements. Create a variable using boolean indexing (e.g., `arr[arr > 5]`) and modify the first element of the variable. Check if the original array has been modified.\n"
   ]
  },
  {
   "cell_type": "code",
   "execution_count": null,
   "metadata": {
    "vscode": {
     "languageId": "plaintext"
    }
   },
   "outputs": [],
   "source": []
  },
  {
   "cell_type": "markdown",
   "metadata": {},
   "source": [
    "\n",
    "6. Create a 1D NumPy array with 10 elements. Create a variable using boolean indexing with `copy()` (e.g., `arr[arr > 5].copy()`) and modify the first element of the variable. Check if the original array has been modified.\n"
   ]
  },
  {
   "cell_type": "code",
   "execution_count": null,
   "metadata": {
    "vscode": {
     "languageId": "plaintext"
    }
   },
   "outputs": [],
   "source": []
  },
  {
   "cell_type": "markdown",
   "metadata": {},
   "source": [
    "\n",
    "7. Create a 2D NumPy array with 5 rows and 5 columns. Create a variable using integer array indexing (e.g., `arr[[1, 2], [3, 4]]`) and modify the first element of the variable. Check if the original array has been modified.\n"
   ]
  },
  {
   "cell_type": "code",
   "execution_count": null,
   "metadata": {
    "vscode": {
     "languageId": "plaintext"
    }
   },
   "outputs": [],
   "source": []
  },
  {
   "cell_type": "markdown",
   "metadata": {},
   "source": [
    "\n",
    "8. Create a 2D NumPy array with 5 rows and 5 columns. Create a variable using integer array indexing (e.g., `arr[[1, 2], [3, 4]].copy()`) and modify the first element of the variable. Check if the original array has been modified.\n"
   ]
  },
  {
   "cell_type": "code",
   "execution_count": null,
   "metadata": {
    "vscode": {
     "languageId": "plaintext"
    }
   },
   "outputs": [],
   "source": []
  },
  {
   "cell_type": "markdown",
   "metadata": {},
   "source": [
    "\n",
    "9. Create a 1D NumPy array with 12 elements. Reshape the array into a 3x4 matrix. Create a view of the first row and modify the 2nd element of the view. Check if the original array has been modified.\n"
   ]
  },
  {
   "cell_type": "code",
   "execution_count": null,
   "metadata": {
    "vscode": {
     "languageId": "plaintext"
    }
   },
   "outputs": [],
   "source": []
  },
  {
   "cell_type": "markdown",
   "metadata": {},
   "source": [
    "\n",
    "10. Create a 1D NumPy array with 12 elements. Reshape the array into a 3x4 matrix. Create a copy of the first row using `arr[0].copy()` and modify the 2nd element of the copy. Check if the original array has been modified.\n"
   ]
  },
  {
   "cell_type": "code",
   "execution_count": null,
   "metadata": {
    "vscode": {
     "languageId": "plaintext"
    }
   },
   "outputs": [],
   "source": []
  },
  {
   "cell_type": "markdown",
   "metadata": {},
   "source": [
    "\n",
    "11. Create a 2D NumPy array with 6 rows and 6 columns. Create a view of every other row starting from the first row and modify the element at (1, 1). Check if the original array has been modified.\n"
   ]
  },
  {
   "cell_type": "code",
   "execution_count": null,
   "metadata": {
    "vscode": {
     "languageId": "plaintext"
    }
   },
   "outputs": [],
   "source": []
  },
  {
   "cell_type": "markdown",
   "metadata": {},
   "source": [
    "\n",
    "12. Create a 2D NumPy array with 6 rows and 6 columns. Create a copy of every other row starting from the first row and modify the element at (1, 1). Check if the original array has been modified.\n"
   ]
  },
  {
   "cell_type": "code",
   "execution_count": null,
   "metadata": {
    "vscode": {
     "languageId": "plaintext"
    }
   },
   "outputs": [],
   "source": []
  },
  {
   "cell_type": "markdown",
   "metadata": {},
   "source": [
    "\n",
    "13. Create a 2D NumPy array with 4 rows and 5 columns. Use boolean indexing to create a view of the elements greater than 10 and modify the first element of the view. Check if the original array has been modified.\n"
   ]
  },
  {
   "cell_type": "code",
   "execution_count": null,
   "metadata": {
    "vscode": {
     "languageId": "plaintext"
    }
   },
   "outputs": [],
   "source": []
  },
  {
   "cell_type": "markdown",
   "metadata": {},
   "source": [
    "\n",
    "14. Create a 2D NumPy array with 4 rows and 5 columns. Use boolean indexing to create a copy of the elements greater than 10 and modify the first element of the copy. Check if the original array has been modified.\n"
   ]
  },
  {
   "cell_type": "code",
   "execution_count": null,
   "metadata": {
    "vscode": {
     "languageId": "plaintext"
    }
   },
   "outputs": [],
   "source": []
  },
  {
   "cell_type": "markdown",
   "metadata": {},
   "source": [
    "\n",
    "15. Create a 1D NumPy array with 15 elements. Create a view of the array using slicing and assign it to a new variable. Modify the first element of the view and check if the `.base` attribute of the view points to the original array."
   ]
  },
  {
   "cell_type": "code",
   "execution_count": null,
   "metadata": {
    "vscode": {
     "languageId": "plaintext"
    }
   },
   "outputs": [],
   "source": []
  }
 ],
 "metadata": {
  "language_info": {
   "name": "python"
  }
 },
 "nbformat": 4,
 "nbformat_minor": 2
}
