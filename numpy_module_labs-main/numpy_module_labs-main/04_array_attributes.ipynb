{
 "cells": [
  {
   "cell_type": "markdown",
   "metadata": {},
   "source": [
    "## 04 - NumPy Array Attributes Exercises\n",
    "\n",
    "**Note**: If any exercises require techniques we haven't covered yet - you should look this up! It's part of the learning process, we need to build the muscle of learning how to do things we haven't seen before.\n",
    "\n",
    "Don't be shy, ask for help on Discord!\n",
    "\n",
    "1. Create a 2D NumPy array with 4 rows and 5 columns filled with random integers between 0 and 9. Print the dtype of the array.\n",
    "\n"
   ]
  },
  {
   "cell_type": "code",
   "execution_count": 3,
   "metadata": {},
   "outputs": [
    {
     "name": "stdout",
     "output_type": "stream",
     "text": [
      "[[7 9 4 7 2]\n",
      " [7 9 8 5 7]\n",
      " [0 1 8 3 1]\n",
      " [5 3 1 2 5]]\n"
     ]
    }
   ],
   "source": [
    "import numpy as np\n",
    "\n",
    "a = np.random.randint(10, size=(4, 5))\n",
    "print(a)"
   ]
  },
  {
   "cell_type": "markdown",
   "metadata": {},
   "source": [
    "\n",
    "2. Create a 3D NumPy array with 2 matrices of 3 rows and 4 columns filled with the value 3.14. Print the shape of the array.\n"
   ]
  },
  {
   "cell_type": "code",
   "execution_count": 6,
   "metadata": {},
   "outputs": [
    {
     "name": "stdout",
     "output_type": "stream",
     "text": [
      "[[[3.14 3.14 3.14 3.14]\n",
      "  [3.14 3.14 3.14 3.14]\n",
      "  [3.14 3.14 3.14 3.14]]\n",
      "\n",
      " [[3.14 3.14 3.14 3.14]\n",
      "  [3.14 3.14 3.14 3.14]\n",
      "  [3.14 3.14 3.14 3.14]]]\n"
     ]
    }
   ],
   "source": [
    "a = np.ones((2,3,4))*3.14\n",
    "print(a)"
   ]
  },
  {
   "cell_type": "markdown",
   "metadata": {},
   "source": [
    "\n",
    "3. Create a 1D NumPy array containing the numbers from 1 to 10. Print the number of dimensions (ndim) of the array.\n"
   ]
  },
  {
   "cell_type": "code",
   "execution_count": 9,
   "metadata": {},
   "outputs": [
    {
     "name": "stdout",
     "output_type": "stream",
     "text": [
      "1\n"
     ]
    }
   ],
   "source": [
    "a = np.arange(1,10)\n",
    "print(a.ndim)"
   ]
  },
  {
   "cell_type": "markdown",
   "metadata": {},
   "source": [
    "\n",
    "4. Create a 2D NumPy array with 3 rows and 3 columns filled with the value 1. Print the total number of elements (size) in the array.\n"
   ]
  },
  {
   "cell_type": "code",
   "execution_count": 23,
   "metadata": {},
   "outputs": [
    {
     "name": "stdout",
     "output_type": "stream",
     "text": [
      "[[1. 1. 1.]\n",
      " [1. 1. 1.]\n",
      " [1. 1. 1.]]\n",
      "9\n",
      "(3, 3)\n",
      "2\n",
      "None\n"
     ]
    }
   ],
   "source": [
    "e = np.ones((3,3))\n",
    "print(e)\n",
    "print(e.size)\n",
    "print(e.shape)\n",
    "print(e.ndim)\n",
    "print(e.base)"
   ]
  },
  {
   "cell_type": "markdown",
   "metadata": {},
   "source": [
    "\n",
    "5. Create a 1D NumPy array containing the numbers from 1 to 5 with the dtype 'int8'. Print the size of each element (itemsize) in the array. Try again with the dtype 'float64'. What do you notice?\n"
   ]
  },
  {
   "cell_type": "code",
   "execution_count": 24,
   "metadata": {},
   "outputs": [
    {
     "name": "stdout",
     "output_type": "stream",
     "text": [
      "[1 2 3 4 5]\n",
      "int8\n",
      "[1. 2. 3. 4. 5.]\n",
      "float64\n"
     ]
    }
   ],
   "source": [
    "array_1 = np.arange(1,6,dtype='int8')\n",
    "print(array_1)\n",
    "print(array_1.dtype)\n",
    "\n",
    "array_2 = np.arange(1,6,dtype='float64')\n",
    "print(array_2)\n",
    "print(array_2.dtype) # Notice the dot after each number, showing the position of 0\n"
   ]
  },
  {
   "cell_type": "markdown",
   "metadata": {},
   "source": [
    "\n",
    "6. Create a 3D NumPy array with 2 matrices of 2 rows and 3 columns filled with the value 255. Print the total size (nbytes) of the array in bytes.\n"
   ]
  },
  {
   "cell_type": "code",
   "execution_count": 27,
   "metadata": {},
   "outputs": [
    {
     "name": "stdout",
     "output_type": "stream",
     "text": [
      "96\n",
      "12\n",
      "float64\n"
     ]
    }
   ],
   "source": [
    "array_6 = np.ones((2,2,3))*255\n",
    "print(array_6.nbytes)\n",
    "print(array_6.size)\n",
    "print(array_6.dtype)"
   ]
  },
  {
   "cell_type": "markdown",
   "metadata": {},
   "source": [
    "\n",
    "7. Create a 2D NumPy array with 2 rows and 3 columns filled with the values [[1, 2, 3], [4, 5, 6]]. Print the transpose of the array. What is the transpose of a tranpose?\n"
   ]
  },
  {
   "cell_type": "code",
   "execution_count": 53,
   "metadata": {},
   "outputs": [
    {
     "name": "stdout",
     "output_type": "stream",
     "text": [
      "[[1 2 3]\n",
      " [4 5 6]]\n",
      "\n",
      "[[1 4]\n",
      " [2 5]\n",
      " [3 6]]\n",
      "\n",
      "[[1 2 3]\n",
      " [4 5 6]]\n"
     ]
    }
   ],
   "source": [
    "array_7 = np.arange(1,7)\n",
    "array_7_1 = array_7.reshape(2,3)\n",
    "\n",
    "\n",
    "array_7_2 = np.array([array_7_1[0],array_7_1[1]])\n",
    "print(array_7_2)\n",
    "print( )\n",
    "print(array_7_2.T)\n",
    "print( )\n",
    "print(array_7_2.T.T)\n"
   ]
  },
  {
   "cell_type": "markdown",
   "metadata": {},
   "source": [
    "\n",
    "8. Create a 1D NumPy array containing the numbers from 1 to 9. Reshape the array into a 3x3 matrix and assign it to a new variable. Print the base of the new array.\n"
   ]
  },
  {
   "cell_type": "code",
   "execution_count": 4,
   "metadata": {},
   "outputs": [
    {
     "name": "stdout",
     "output_type": "stream",
     "text": [
      "None\n",
      "[1 2 3 4 5 6 7 8 9]\n"
     ]
    }
   ],
   "source": [
    "array_8 = np.arange(1,10)\n",
    "array_8_1 = array_8.reshape(3,3)\n",
    "print(array_8.base)\n",
    "print(array_8_1.base)\n",
    "\n"
   ]
  },
  {
   "cell_type": "markdown",
   "metadata": {},
   "source": [
    "\n",
    "9. Create a 2D NumPy array with 3 rows and 4 columns filled with random float numbers between 0 and 1. Print the dtype, shape, and ndim of the array.\n"
   ]
  },
  {
   "cell_type": "code",
   "execution_count": 14,
   "metadata": {},
   "outputs": [
    {
     "name": "stdout",
     "output_type": "stream",
     "text": [
      "[[0.54221061 0.47448486 0.08720235 0.62546189]\n",
      " [0.35076648 0.11285411 0.7970699  0.31495234]\n",
      " [0.15006559 0.34392697 0.00810386 0.51142946]]\n",
      "float64\n",
      "(3, 4)\n",
      "2\n"
     ]
    }
   ],
   "source": [
    "array_9 = np.random.rand(3,4)\n",
    "print(array_9)\n",
    "print(array_9.dtype)\n",
    "print(array_9.shape)\n",
    "print(array_9.ndim)"
   ]
  },
  {
   "cell_type": "markdown",
   "metadata": {},
   "source": [
    "\n",
    "10. Create a 3D NumPy array with 2 matrices of 2 rows and 2 columns filled with the value 10. Print the size and itemsize of the array.\n"
   ]
  },
  {
   "cell_type": "code",
   "execution_count": null,
   "metadata": {},
   "outputs": [],
   "source": []
  },
  {
   "cell_type": "markdown",
   "metadata": {},
   "source": [
    "\n",
    "11. Create a 1D NumPy array containing the numbers from 1 to 6. Reshape the array into a 2x3 matrix and assign it to a new variable. Print the nbytes of both the original and the new array.\n"
   ]
  },
  {
   "cell_type": "code",
   "execution_count": null,
   "metadata": {},
   "outputs": [],
   "source": []
  },
  {
   "cell_type": "markdown",
   "metadata": {},
   "source": [
    "\n",
    "12. Create a 2D NumPy array with 4 rows and 4 columns filled with the value 1. Use advanced indexing to create a new array containing only the 2nd and 4th rows of the original array. Print the base of the new array. \n",
    " \n",
    "We have one example of advanced indexing in the material see if you can extrapolate.\n"
   ]
  },
  {
   "cell_type": "code",
   "execution_count": null,
   "metadata": {},
   "outputs": [],
   "source": []
  },
  {
   "cell_type": "markdown",
   "metadata": {},
   "source": [
    "\n",
    "13. Create a 1D NumPy array containing the numbers from 1 to 12. Reshape the array into a 3x4 matrix. Print the shape and ndim of the new array.\n"
   ]
  },
  {
   "cell_type": "code",
   "execution_count": null,
   "metadata": {},
   "outputs": [],
   "source": []
  },
  {
   "cell_type": "markdown",
   "metadata": {},
   "source": [
    "\n",
    "14. Create a 2D NumPy array with 3 rows and 3 columns filled with random integers between 1 and 100. Print the dtype, itemsize, and nbytes of the array.\n"
   ]
  },
  {
   "cell_type": "code",
   "execution_count": null,
   "metadata": {},
   "outputs": [],
   "source": []
  },
  {
   "cell_type": "markdown",
   "metadata": {},
   "source": [
    "\n",
    "15. Create a 3D NumPy array with 2 matrices of 3 rows and 3 columns filled with the value 5. Transpose the array and print the shape of the transposed array. Can you predict the transpose shape correctly?"
   ]
  },
  {
   "cell_type": "code",
   "execution_count": null,
   "metadata": {},
   "outputs": [],
   "source": []
  }
 ],
 "metadata": {
  "kernelspec": {
   "display_name": "venv_dsml",
   "language": "python",
   "name": "python3"
  },
  "language_info": {
   "codemirror_mode": {
    "name": "ipython",
    "version": 3
   },
   "file_extension": ".py",
   "mimetype": "text/x-python",
   "name": "python",
   "nbconvert_exporter": "python",
   "pygments_lexer": "ipython3",
   "version": "3.7.9"
  }
 },
 "nbformat": 4,
 "nbformat_minor": 2
}
