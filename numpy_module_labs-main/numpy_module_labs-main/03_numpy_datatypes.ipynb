{
 "cells": [
  {
   "cell_type": "markdown",
   "metadata": {},
   "source": [
    "# 02 Exercises - Data Types\n",
    "\n",
    "Here are 10 exercises to help you practice what you've learned about NumPy data types:\n",
    "\n",
    "**Note**: If any exercises require techniques we haven't covered yet - you should look this up! It's part of the learning process, we need to build the muscle of learning how to do things we haven't seen before.\n",
    "\n",
    "\n",
    "Remember to check the dtype of the arrays you create using the `dtype` attribute and observe the differences between arrays created with different dtypes.\n",
    "\n",
    "1. Create a 1D NumPy array containing the numbers 1 to 5 with the default integer dtype.\n"
   ]
  },
  {
   "cell_type": "code",
   "execution_count": null,
   "metadata": {
    "vscode": {
     "languageId": "plaintext"
    }
   },
   "outputs": [],
   "source": []
  },
  {
   "cell_type": "markdown",
   "metadata": {},
   "source": [
    "2. Create the same 1D NumPy array as in exercise 1, but with the `int8` dtype.\n"
   ]
  },
  {
   "cell_type": "code",
   "execution_count": null,
   "metadata": {},
   "outputs": [],
   "source": []
  },
  {
   "cell_type": "markdown",
   "metadata": {},
   "source": [
    "\n",
    "3. Create a 2D NumPy array with 2 rows and 3 columns, filled with the value 1.5, using the default floating-point dtype.\n"
   ]
  },
  {
   "cell_type": "code",
   "execution_count": null,
   "metadata": {},
   "outputs": [],
   "source": []
  },
  {
   "cell_type": "markdown",
   "metadata": {},
   "source": [
    "\n",
    "4. Create the same 2D NumPy array as in exercise 3, but with the `float32` dtype.\n"
   ]
  },
  {
   "cell_type": "code",
   "execution_count": null,
   "metadata": {},
   "outputs": [],
   "source": []
  },
  {
   "cell_type": "markdown",
   "metadata": {},
   "source": [
    "\n",
    "5. Create a 1D NumPy array containing the numbers 1 to 10 with the default integer dtype. Then, change the dtype to `float64` using the `astype()` method.\n"
   ]
  },
  {
   "cell_type": "code",
   "execution_count": null,
   "metadata": {},
   "outputs": [],
   "source": []
  },
  {
   "cell_type": "markdown",
   "metadata": {},
   "source": [
    "\n",
    "6. Create a 2D NumPy array with 3 rows and 3 columns, filled with the value 255, using the `uint8` dtype.\n"
   ]
  },
  {
   "cell_type": "code",
   "execution_count": null,
   "metadata": {},
   "outputs": [],
   "source": []
  },
  {
   "cell_type": "markdown",
   "metadata": {},
   "source": [
    "\n",
    "7. Create a 1D NumPy array containing the numbers 1 to 5 with the default integer dtype. Then, print the dtype of the array.\n"
   ]
  },
  {
   "cell_type": "code",
   "execution_count": null,
   "metadata": {},
   "outputs": [],
   "source": []
  },
  {
   "cell_type": "markdown",
   "metadata": {},
   "source": [
    "\n",
    "8. Create a 2D NumPy array with 2 rows and 2 columns, filled with the value 1 + 1j, using the `complex128` dtype.\n"
   ]
  },
  {
   "cell_type": "code",
   "execution_count": null,
   "metadata": {},
   "outputs": [],
   "source": []
  },
  {
   "cell_type": "markdown",
   "metadata": {},
   "source": [
    "\n",
    "9. Create a 1D NumPy array containing the boolean values True, False, True, False, True, using the `bool` dtype.\n"
   ]
  },
  {
   "cell_type": "code",
   "execution_count": null,
   "metadata": {},
   "outputs": [],
   "source": []
  },
  {
   "cell_type": "markdown",
   "metadata": {},
   "source": [
    "10. Create a 2D NumPy array with 2 rows and 3 columns, filled with the value 10, using the default integer dtype. Then, change the dtype to `uint16` using the `astype()` method.\n"
   ]
  },
  {
   "cell_type": "code",
   "execution_count": null,
   "metadata": {},
   "outputs": [],
   "source": []
  }
 ],
 "metadata": {
  "language_info": {
   "name": "python"
  }
 },
 "nbformat": 4,
 "nbformat_minor": 2
}
