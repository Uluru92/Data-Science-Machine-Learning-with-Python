{
 "cells": [
  {
   "cell_type": "markdown",
   "metadata": {},
   "source": [
    "\n",
    "# NumPy Exercises for Operations\n",
    "\n",
    "**Note**: If any exercises require techniques we haven't covered yet - you should look this up! It's part of the learning process, we need to build the muscle of learning how to do things we haven't seen before.\n",
    "\n",
    "Don't be shy, ask for help on Discord!\n",
    "\n",
    "1. Create two 1D NumPy arrays with 5 elements each, filled with random integers between 1 and 10. Perform element-wise addition, subtraction, multiplication, and division on these arrays.\n"
   ]
  },
  {
   "cell_type": "code",
   "execution_count": 74,
   "metadata": {},
   "outputs": [
    {
     "name": "stdout",
     "output_type": "stream",
     "text": [
      "[3 3 5 1 6]      ->  a\n",
      "[7 1 9 8 7]      ->  b\n",
      "[10  4 14  9 13] ->  addition: a + b\n",
      "[-4  2 -4 -7 -1] ->  subtraction: a - b\n",
      "[21  3 45  8 42] ->  product: a * b\n",
      "[0.42857143 3.         0.55555556 0.125      0.85714286] ->  division: a / b\n"
     ]
    }
   ],
   "source": [
    "import numpy as np\n",
    "\n",
    "a = np.random.randint(1,10, size=5)\n",
    "print(f'{a}      ->  a')\n",
    "\n",
    "b = np.random.randint(1,10, size=5)\n",
    "print(f'{b}      ->  b')\n",
    "\n",
    "\n",
    "c = a + b\n",
    "print(f'{c} ->  addition: a + b') \n",
    "\n",
    "f = a - b\n",
    "print(f'{f} ->  subtraction: a - b') \n",
    "\n",
    "e = a * b\n",
    "print(f'{e} ->  product: a * b')    \n",
    "\n",
    "y = a / b\n",
    "print(f'{y} ->  division: a / b')    \n"
   ]
  },
  {
   "cell_type": "markdown",
   "metadata": {},
   "source": [
    "\n",
    "2. Create a 2D NumPy array with 3 rows and 4 columns, filled with random floats between 0 and 1. Multiply each element in the array by 10 and then subtract 5 from each element.\n"
   ]
  },
  {
   "cell_type": "markdown",
   "metadata": {},
   "source": [
    "\n",
    "2. Create a 2D NumPy array with 3 rows and 4 columns, filled with random floats between 0 and 1. Multiply each element in the array by 10 and then subtract 5 from each element.\n"
   ]
  },
  {
   "cell_type": "code",
   "execution_count": null,
   "metadata": {},
   "outputs": [
    {
     "name": "stdout",
     "output_type": "stream",
     "text": [
      "original array: \n",
      "[[0.78808753 0.77784082 0.95412775 0.69747638]\n",
      " [0.6620612  0.03625177 0.16881103 0.07648641]\n",
      " [0.74634313 0.23459853 0.56518297 0.36201034]]\n",
      "\n",
      "Multiply by 10: \n",
      "[[7.88087528 7.77840822 9.54127746 6.97476384]\n",
      " [6.62061201 0.36251765 1.68811029 0.76486408]\n",
      " [7.46343128 2.34598532 5.65182965 3.62010343]]\n",
      "\n",
      "Subtract 5: \n",
      "[[ 2.88087528  2.77840822  4.54127746  1.97476384]\n",
      " [ 1.62061201 -4.63748235 -3.31188971 -4.23513592]\n",
      " [ 2.46343128 -2.65401468  0.65182965 -1.37989657]]\n",
      "\n"
     ]
    }
   ],
   "source": [
    "array_2 = np.random.uniform(0,1,size=12).reshape(3,4)\n",
    "array_2_1 = array_2*10\n",
    "array_2_2 = array_2_1-5\n",
    "print(f'original array: \\n{array_2}\\n')\n",
    "print(f'Multiply by 10: \\n{array_2_1}\\n')\n",
    "print(f'Subtract 5: \\n{array_2_2}\\n')"
   ]
  },
  {
   "cell_type": "markdown",
   "metadata": {},
   "source": [
    "\n",
    "3. Create two 2D NumPy arrays with 2 rows and 3 columns each, filled with random integers between 1 and 5. Perform matrix multiplication on these arrays using the `@` operator.\n"
   ]
  },
  {
   "cell_type": "code",
   "execution_count": 114,
   "metadata": {},
   "outputs": [
    {
     "name": "stdout",
     "output_type": "stream",
     "text": [
      "a: \n",
      "[[3 1 3]\n",
      " [3 3 4]]\n",
      "b: \n",
      "[[4 4 2]\n",
      " [2 2 1]]\n",
      "a.T: \n",
      "[[3 3]\n",
      " [1 3]\n",
      " [3 4]]\n",
      "b.T: \n",
      "[[4 2]\n",
      " [4 2]\n",
      " [2 1]]\n",
      "Matrix multiplication a@b.T: \n",
      "[[22 11]\n",
      " [32 16]]\n",
      "Matrix multiplication a.T@b: \n",
      "[[18 18  9]\n",
      " [10 10  5]\n",
      " [20 20 10]]\n"
     ]
    }
   ],
   "source": [
    "a_2d = np.random.randint(1,5, size=(2,3))\n",
    "b_2d = np.random.randint(1,5, size=(2,3))\n",
    "\n",
    "print(f'a: \\n{a_2d}')\n",
    "print(f'b: \\n{b_2d}')\n",
    "print(f'a.T: \\n{a_2d.T}')\n",
    "print(f'b.T: \\n{b_2d.T}')\n",
    "\n",
    "c = a_2d @ b_2d.T\n",
    "d = a_2d.T @ b_2d\n",
    "print(f'Matrix multiplication a@b.T: \\n{c}')\n",
    "print(f'Matrix multiplication a.T@b: \\n{d}')\n"
   ]
  },
  {
   "cell_type": "markdown",
   "metadata": {},
   "source": [
    "\n",
    "4. Create a 2D NumPy array with 4 rows and 4 columns, filled with random integers between 1 and 10. Calculate the sum, mean, and standard deviation of all elements in the array.\n"
   ]
  },
  {
   "cell_type": "code",
   "execution_count": 123,
   "metadata": {},
   "outputs": [
    {
     "name": "stdout",
     "output_type": "stream",
     "text": [
      "[[9 2 2 9]\n",
      " [3 9 7 2]\n",
      " [3 3 7 7]\n",
      " [8 5 6 2]]\n",
      "sum: 84\n",
      "mean: 5.25\n",
      "standard deviation: 2.704163456597992\n"
     ]
    }
   ],
   "source": [
    "array_4 = np.random.randint(1,10, size=(4,4))\n",
    "print(array_4)\n",
    "\n",
    "sum = np.sum(array_4)\n",
    "mean = np.mean(array_4)\n",
    "stnd = np.std(array_4)\n",
    "print(f'sum: {sum}')\n",
    "print(f'mean: {mean}')\n",
    "print(f'standard deviation: {stnd}')\n",
    "\n"
   ]
  },
  {
   "cell_type": "markdown",
   "metadata": {},
   "source": [
    "\n",
    "5. Using the array from exercise 4, calculate the sum, mean, and standard deviation along each row and each column.\n"
   ]
  },
  {
   "cell_type": "code",
   "execution_count": 128,
   "metadata": {},
   "outputs": [
    {
     "name": "stdout",
     "output_type": "stream",
     "text": [
      "sum along rows: [22 21 20 21]\n",
      "sum along colums: [23 19 22 20]\n"
     ]
    }
   ],
   "source": [
    "sum_rows = np.sum(array_4, axis=1)\n",
    "print(f'sum along rows: {sum_rows}')\n",
    "\n",
    "sum_colums = np.sum(array_4, axis=0)\n",
    "print(f'sum along colums: {sum_colums}')"
   ]
  },
  {
   "cell_type": "markdown",
   "metadata": {},
   "source": [
    "\n",
    "6. Create a 1D NumPy array with 10 elements, filled with random integers between 1 and 100. Apply the following universal functions to the array: square root, natural logarithm, and exponential.\n"
   ]
  },
  {
   "cell_type": "code",
   "execution_count": 134,
   "metadata": {},
   "outputs": [
    {
     "name": "stdout",
     "output_type": "stream",
     "text": [
      "Original array: [77 91 50 53 36 38 60 85 90 11]\n",
      "\n",
      "Square root: [8.77496439 9.53939201 7.07106781 7.28010989 6.         6.164414\n",
      " 7.74596669 9.21954446 9.48683298 3.31662479]\n",
      "\n",
      "Natural log: [4.34380542 4.51085951 3.91202301 3.97029191 3.58351894 3.63758616\n",
      " 4.09434456 4.44265126 4.49980967 2.39789527]\n",
      "\n",
      "Exponential: [2.75851345e+33 3.31740010e+39 5.18470553e+21 1.04137594e+23\n",
      " 4.31123155e+15 3.18559318e+16 1.14200739e+26 8.22301271e+36\n",
      " 1.22040329e+39 5.98741417e+04]\n",
      "\n"
     ]
    }
   ],
   "source": [
    "array_6 = np.random.randint(1,100, size=10)\n",
    "print(f'Original array: {array_6}\\n')\n",
    "\n",
    "sqr_root = np.sqrt(array_6)\n",
    "print(f'Square root: {sqr_root}\\n')\n",
    "\n",
    "log_ = np.log(array_6)  \n",
    "print(f'Natural log: {log_}\\n')\n",
    "\n",
    "exp_ = np.exp(array_6)\n",
    "print(f'Exponential: {exp_}\\n')"
   ]
  },
  {
   "cell_type": "markdown",
   "metadata": {},
   "source": [
    "\n",
    "7. Create a 2D NumPy array with 3 rows and 3 columns, filled with random floats between -1 and 1. Apply the following universal functions to the array: absolute value, sine, and cosine.\n"
   ]
  },
  {
   "cell_type": "code",
   "execution_count": 136,
   "metadata": {},
   "outputs": [
    {
     "name": "stdout",
     "output_type": "stream",
     "text": [
      "[[-0.23954015  0.6952006  -0.97834558]\n",
      " [-0.7987995   0.31894897 -0.02005903]\n",
      " [ 0.3307896  -0.33692598 -0.64451656]]\n",
      "float64\n"
     ]
    }
   ],
   "source": [
    "array_7 = np.random.uniform(-1,1, size=(3,3))\n",
    "print(array_7)\n",
    "print(array_7.dtype)"
   ]
  },
  {
   "cell_type": "markdown",
   "metadata": {},
   "source": [
    "\n",
    "8. Create two 1D NumPy arrays with 6 elements each, filled with random integers between 1 and 10. Perform element-wise comparison operations on these arrays: greater than, less than, and equal to.\n"
   ]
  },
  {
   "cell_type": "code",
   "execution_count": 159,
   "metadata": {},
   "outputs": [
    {
     "name": "stdout",
     "output_type": "stream",
     "text": [
      "array 1: [3 3 9 3 2 3]\n",
      "array 2: [7 2 5 8 8 9]\n",
      "\n",
      "Greater than 3 in array 1: [9]\n",
      "Greater than 3 in array 2: [7 5 8 8 9]\n",
      "\n",
      "Less than 3 in array 1: [2]\n",
      "Less than 3 in array 2: [2]\n",
      "\n",
      "Equal to 3 in array 1: [3 3 3 3]\n",
      "Equal to 3 in array 2: []\n"
     ]
    }
   ],
   "source": [
    "array_8_1 = np.random.randint(1,10, size=6)\n",
    "array_8_2 = np.random.randint(1,10, size=6)\n",
    "print(f'array 1: {array_8_1}')\n",
    "print(f'array 2: {array_8_2}\\n')\n",
    "\n",
    "greater_1 = array_8_1[array_8_1>3]\n",
    "greater_2 = array_8_2[array_8_2>3]\n",
    "print(f'Greater than 3 in array 1: {greater_1}')\n",
    "print(f'Greater than 3 in array 2: {greater_2}\\n')\n",
    "\n",
    "less_1 = array_8_1[array_8_1<3]\n",
    "less_2 = array_8_2[array_8_2<3]\n",
    "print(f'Less than 3 in array 1: {less_1}')\n",
    "print(f'Less than 3 in array 2: {less_2}\\n')\n",
    "\n",
    "equal_1 = array_8_1[array_8_1==3]\n",
    "equal_2 = array_8_2[array_8_2==3]\n",
    "print(f'Equal to 3 in array 1: {equal_1}')\n",
    "print(f'Equal to 3 in array 2: {equal_2}')"
   ]
  },
  {
   "cell_type": "markdown",
   "metadata": {},
   "source": [
    "\n",
    "9. Create a 2D NumPy array with 5 rows and 5 columns, filled with random integers between 1 and 100. Find the maximum and minimum values in the array along each row and each column.\n"
   ]
  },
  {
   "cell_type": "code",
   "execution_count": null,
   "metadata": {},
   "outputs": [],
   "source": []
  },
  {
   "cell_type": "markdown",
   "metadata": {},
   "source": [
    "\n",
    "10. Create a 1D NumPy array with 8 elements, filled with random integers between 1 and 20. Calculate the dot product of this array with itself.\n"
   ]
  },
  {
   "cell_type": "code",
   "execution_count": null,
   "metadata": {},
   "outputs": [],
   "source": []
  },
  {
   "cell_type": "markdown",
   "metadata": {},
   "source": [
    "\n",
    "11. Create a 2D NumPy array with 4 rows and 4 columns, filled with random floats between 0 and 1. Apply the following universal functions to the array: ceil, floor, and round.\n"
   ]
  },
  {
   "cell_type": "code",
   "execution_count": null,
   "metadata": {},
   "outputs": [],
   "source": []
  },
  {
   "cell_type": "markdown",
   "metadata": {},
   "source": [
    "\n",
    "12. Create two 2D NumPy arrays with 3 rows and 3 columns each, filled with random integers between 1 and 10. Perform element-wise addition, subtraction, multiplication, and division on these arrays.\n"
   ]
  },
  {
   "cell_type": "code",
   "execution_count": null,
   "metadata": {},
   "outputs": [],
   "source": []
  },
  {
   "cell_type": "markdown",
   "metadata": {},
   "source": [
    "\n",
    "13. Create a 1D NumPy array with 7 elements, filled with random integers between 1 and 100. Calculate the sum of the array using a Python loop and compare the execution time with the NumPy `sum()` function using the `%%timeit` magic command.\n"
   ]
  },
  {
   "cell_type": "code",
   "execution_count": null,
   "metadata": {},
   "outputs": [],
   "source": []
  },
  {
   "cell_type": "markdown",
   "metadata": {},
   "source": [
    "\n",
    "14. Create a 2D NumPy array with 6 rows and 6 columns, filled with random floats between -10 and 10. Apply the following universal functions to the array: hyperbolic sine, hyperbolic cosine, and hyperbolic tangent. (Practice those look up skills!)\n"
   ]
  },
  {
   "cell_type": "code",
   "execution_count": null,
   "metadata": {},
   "outputs": [],
   "source": []
  },
  {
   "cell_type": "markdown",
   "metadata": {},
   "source": [
    "\n",
    "15. Create two 1D NumPy arrays with 100 elements each, filled with random floats between 0 and 1. Perform element-wise multiplication on these arrays using a Python loop and compare the execution time with the NumPy element-wise multiplication using the `%%timeit` magic command."
   ]
  },
  {
   "cell_type": "code",
   "execution_count": null,
   "metadata": {},
   "outputs": [],
   "source": []
  }
 ],
 "metadata": {
  "kernelspec": {
   "display_name": "venv_dsml",
   "language": "python",
   "name": "python3"
  },
  "language_info": {
   "codemirror_mode": {
    "name": "ipython",
    "version": 3
   },
   "file_extension": ".py",
   "mimetype": "text/x-python",
   "name": "python",
   "nbconvert_exporter": "python",
   "pygments_lexer": "ipython3",
   "version": "3.7.9"
  }
 },
 "nbformat": 4,
 "nbformat_minor": 2
}
