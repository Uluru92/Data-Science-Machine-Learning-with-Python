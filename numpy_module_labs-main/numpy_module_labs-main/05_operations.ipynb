{
 "cells": [
  {
   "cell_type": "markdown",
   "metadata": {},
   "source": [
    "\n",
    "# NumPy Exercises for Operations\n",
    "\n",
    "**Note**: If any exercises require techniques we haven't covered yet - you should look this up! It's part of the learning process, we need to build the muscle of learning how to do things we haven't seen before.\n",
    "\n",
    "Don't be shy, ask for help on Discord!\n",
    "\n",
    "1. Create two 1D NumPy arrays with 5 elements each, filled with random integers between 1 and 10. Perform element-wise addition, subtraction, multiplication, and division on these arrays.\n"
   ]
  },
  {
   "cell_type": "code",
   "execution_count": 74,
   "metadata": {},
   "outputs": [
    {
     "name": "stdout",
     "output_type": "stream",
     "text": [
      "[3 3 5 1 6]      ->  a\n",
      "[7 1 9 8 7]      ->  b\n",
      "[10  4 14  9 13] ->  addition: a + b\n",
      "[-4  2 -4 -7 -1] ->  subtraction: a - b\n",
      "[21  3 45  8 42] ->  product: a * b\n",
      "[0.42857143 3.         0.55555556 0.125      0.85714286] ->  division: a / b\n"
     ]
    }
   ],
   "source": [
    "import numpy as np\n",
    "\n",
    "a = np.random.randint(1,10, size=5)\n",
    "print(f'{a}      ->  a')\n",
    "\n",
    "b = np.random.randint(1,10, size=5)\n",
    "print(f'{b}      ->  b')\n",
    "\n",
    "\n",
    "c = a + b\n",
    "print(f'{c} ->  addition: a + b') \n",
    "\n",
    "f = a - b\n",
    "print(f'{f} ->  subtraction: a - b') \n",
    "\n",
    "e = a * b\n",
    "print(f'{e} ->  product: a * b')    \n",
    "\n",
    "y = a / b\n",
    "print(f'{y} ->  division: a / b')    \n"
   ]
  },
  {
   "cell_type": "markdown",
   "metadata": {},
   "source": [
    "\n",
    "2. Create a 2D NumPy array with 3 rows and 4 columns, filled with random floats between 0 and 1. Multiply each element in the array by 10 and then subtract 5 from each element.\n"
   ]
  },
  {
   "cell_type": "markdown",
   "metadata": {},
   "source": [
    "\n",
    "2. Create a 2D NumPy array with 3 rows and 4 columns, filled with random floats between 0 and 1. Multiply each element in the array by 10 and then subtract 5 from each element.\n"
   ]
  },
  {
   "cell_type": "code",
   "execution_count": null,
   "metadata": {},
   "outputs": [
    {
     "name": "stdout",
     "output_type": "stream",
     "text": [
      "original array: \n",
      "[[0.78808753 0.77784082 0.95412775 0.69747638]\n",
      " [0.6620612  0.03625177 0.16881103 0.07648641]\n",
      " [0.74634313 0.23459853 0.56518297 0.36201034]]\n",
      "\n",
      "Multiply by 10: \n",
      "[[7.88087528 7.77840822 9.54127746 6.97476384]\n",
      " [6.62061201 0.36251765 1.68811029 0.76486408]\n",
      " [7.46343128 2.34598532 5.65182965 3.62010343]]\n",
      "\n",
      "Subtract 5: \n",
      "[[ 2.88087528  2.77840822  4.54127746  1.97476384]\n",
      " [ 1.62061201 -4.63748235 -3.31188971 -4.23513592]\n",
      " [ 2.46343128 -2.65401468  0.65182965 -1.37989657]]\n",
      "\n"
     ]
    }
   ],
   "source": [
    "array_2 = np.random.uniform(0,1,size=12).reshape(3,4)\n",
    "array_2_1 = array_2*10\n",
    "array_2_2 = array_2_1-5\n",
    "print(f'original array: \\n{array_2}\\n')\n",
    "print(f'Multiply by 10: \\n{array_2_1}\\n')\n",
    "print(f'Subtract 5: \\n{array_2_2}\\n')"
   ]
  },
  {
   "cell_type": "markdown",
   "metadata": {},
   "source": [
    "\n",
    "3. Create two 2D NumPy arrays with 2 rows and 3 columns each, filled with random integers between 1 and 5. Perform matrix multiplication on these arrays using the `@` operator.\n"
   ]
  },
  {
   "cell_type": "code",
   "execution_count": null,
   "metadata": {},
   "outputs": [],
   "source": []
  },
  {
   "cell_type": "markdown",
   "metadata": {},
   "source": [
    "\n",
    "4. Create a 2D NumPy array with 4 rows and 4 columns, filled with random integers between 1 and 10. Calculate the sum, mean, and standard deviation of all elements in the array.\n"
   ]
  },
  {
   "cell_type": "code",
   "execution_count": null,
   "metadata": {},
   "outputs": [],
   "source": []
  },
  {
   "cell_type": "markdown",
   "metadata": {},
   "source": [
    "\n",
    "5. Using the array from exercise 4, calculate the sum, mean, and standard deviation along each row and each column.\n"
   ]
  },
  {
   "cell_type": "code",
   "execution_count": null,
   "metadata": {},
   "outputs": [],
   "source": []
  },
  {
   "cell_type": "markdown",
   "metadata": {},
   "source": [
    "\n",
    "6. Create a 1D NumPy array with 10 elements, filled with random integers between 1 and 100. Apply the following universal functions to the array: square root, natural logarithm, and exponential.\n"
   ]
  },
  {
   "cell_type": "code",
   "execution_count": null,
   "metadata": {},
   "outputs": [],
   "source": []
  },
  {
   "cell_type": "markdown",
   "metadata": {},
   "source": [
    "\n",
    "7. Create a 2D NumPy array with 3 rows and 3 columns, filled with random floats between -1 and 1. Apply the following universal functions to the array: absolute value, sine, and cosine.\n"
   ]
  },
  {
   "cell_type": "code",
   "execution_count": null,
   "metadata": {},
   "outputs": [],
   "source": []
  },
  {
   "cell_type": "markdown",
   "metadata": {},
   "source": [
    "\n",
    "8. Create two 1D NumPy arrays with 6 elements each, filled with random integers between 1 and 10. Perform element-wise comparison operations on these arrays: greater than, less than, and equal to.\n"
   ]
  },
  {
   "cell_type": "code",
   "execution_count": null,
   "metadata": {},
   "outputs": [],
   "source": []
  },
  {
   "cell_type": "markdown",
   "metadata": {},
   "source": [
    "\n",
    "9. Create a 2D NumPy array with 5 rows and 5 columns, filled with random integers between 1 and 100. Find the maximum and minimum values in the array along each row and each column.\n"
   ]
  },
  {
   "cell_type": "code",
   "execution_count": null,
   "metadata": {},
   "outputs": [],
   "source": []
  },
  {
   "cell_type": "markdown",
   "metadata": {},
   "source": [
    "\n",
    "10. Create a 1D NumPy array with 8 elements, filled with random integers between 1 and 20. Calculate the dot product of this array with itself.\n"
   ]
  },
  {
   "cell_type": "code",
   "execution_count": null,
   "metadata": {},
   "outputs": [],
   "source": []
  },
  {
   "cell_type": "markdown",
   "metadata": {},
   "source": [
    "\n",
    "11. Create a 2D NumPy array with 4 rows and 4 columns, filled with random floats between 0 and 1. Apply the following universal functions to the array: ceil, floor, and round.\n"
   ]
  },
  {
   "cell_type": "code",
   "execution_count": null,
   "metadata": {},
   "outputs": [],
   "source": []
  },
  {
   "cell_type": "markdown",
   "metadata": {},
   "source": [
    "\n",
    "12. Create two 2D NumPy arrays with 3 rows and 3 columns each, filled with random integers between 1 and 10. Perform element-wise addition, subtraction, multiplication, and division on these arrays.\n"
   ]
  },
  {
   "cell_type": "code",
   "execution_count": null,
   "metadata": {},
   "outputs": [],
   "source": []
  },
  {
   "cell_type": "markdown",
   "metadata": {},
   "source": [
    "\n",
    "13. Create a 1D NumPy array with 7 elements, filled with random integers between 1 and 100. Calculate the sum of the array using a Python loop and compare the execution time with the NumPy `sum()` function using the `%%timeit` magic command.\n"
   ]
  },
  {
   "cell_type": "code",
   "execution_count": null,
   "metadata": {},
   "outputs": [],
   "source": []
  },
  {
   "cell_type": "markdown",
   "metadata": {},
   "source": [
    "\n",
    "14. Create a 2D NumPy array with 6 rows and 6 columns, filled with random floats between -10 and 10. Apply the following universal functions to the array: hyperbolic sine, hyperbolic cosine, and hyperbolic tangent. (Practice those look up skills!)\n"
   ]
  },
  {
   "cell_type": "code",
   "execution_count": null,
   "metadata": {},
   "outputs": [],
   "source": []
  },
  {
   "cell_type": "markdown",
   "metadata": {},
   "source": [
    "\n",
    "15. Create two 1D NumPy arrays with 100 elements each, filled with random floats between 0 and 1. Perform element-wise multiplication on these arrays using a Python loop and compare the execution time with the NumPy element-wise multiplication using the `%%timeit` magic command."
   ]
  },
  {
   "cell_type": "code",
   "execution_count": null,
   "metadata": {},
   "outputs": [],
   "source": []
  }
 ],
 "metadata": {
  "kernelspec": {
   "display_name": "venv_dsml",
   "language": "python",
   "name": "python3"
  },
  "language_info": {
   "codemirror_mode": {
    "name": "ipython",
    "version": 3
   },
   "file_extension": ".py",
   "mimetype": "text/x-python",
   "name": "python",
   "nbconvert_exporter": "python",
   "pygments_lexer": "ipython3",
   "version": "3.7.9"
  }
 },
 "nbformat": 4,
 "nbformat_minor": 2
}
