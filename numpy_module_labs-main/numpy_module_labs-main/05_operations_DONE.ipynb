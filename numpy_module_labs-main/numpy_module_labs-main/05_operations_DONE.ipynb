{
 "cells": [
  {
   "cell_type": "markdown",
   "metadata": {},
   "source": [
    "\n",
    "# NumPy Exercises for Operations\n",
    "\n",
    "**Note**: If any exercises require techniques we haven't covered yet - you should look this up! It's part of the learning process, we need to build the muscle of learning how to do things we haven't seen before.\n",
    "\n",
    "Don't be shy, ask for help on Discord!\n",
    "\n",
    "1. Create two 1D NumPy arrays with 5 elements each, filled with random integers between 1 and 10. Perform element-wise addition, subtraction, multiplication, and division on these arrays.\n"
   ]
  },
  {
   "cell_type": "code",
   "execution_count": 74,
   "metadata": {},
   "outputs": [
    {
     "name": "stdout",
     "output_type": "stream",
     "text": [
      "[3 3 5 1 6]      ->  a\n",
      "[7 1 9 8 7]      ->  b\n",
      "[10  4 14  9 13] ->  addition: a + b\n",
      "[-4  2 -4 -7 -1] ->  subtraction: a - b\n",
      "[21  3 45  8 42] ->  product: a * b\n",
      "[0.42857143 3.         0.55555556 0.125      0.85714286] ->  division: a / b\n"
     ]
    }
   ],
   "source": [
    "import numpy as np\n",
    "\n",
    "a = np.random.randint(1,10, size=5)\n",
    "print(f'{a}      ->  a')\n",
    "\n",
    "b = np.random.randint(1,10, size=5)\n",
    "print(f'{b}      ->  b')\n",
    "\n",
    "\n",
    "c = a + b\n",
    "print(f'{c} ->  addition: a + b') \n",
    "\n",
    "f = a - b\n",
    "print(f'{f} ->  subtraction: a - b') \n",
    "\n",
    "e = a * b\n",
    "print(f'{e} ->  product: a * b')    \n",
    "\n",
    "y = a / b\n",
    "print(f'{y} ->  division: a / b')    \n"
   ]
  },
  {
   "cell_type": "markdown",
   "metadata": {},
   "source": [
    "\n",
    "2. Create a 2D NumPy array with 3 rows and 4 columns, filled with random floats between 0 and 1. Multiply each element in the array by 10 and then subtract 5 from each element.\n"
   ]
  },
  {
   "cell_type": "markdown",
   "metadata": {},
   "source": [
    "\n",
    "2. Create a 2D NumPy array with 3 rows and 4 columns, filled with random floats between 0 and 1. Multiply each element in the array by 10 and then subtract 5 from each element.\n"
   ]
  },
  {
   "cell_type": "code",
   "execution_count": null,
   "metadata": {},
   "outputs": [
    {
     "name": "stdout",
     "output_type": "stream",
     "text": [
      "original array: \n",
      "[[0.78808753 0.77784082 0.95412775 0.69747638]\n",
      " [0.6620612  0.03625177 0.16881103 0.07648641]\n",
      " [0.74634313 0.23459853 0.56518297 0.36201034]]\n",
      "\n",
      "Multiply by 10: \n",
      "[[7.88087528 7.77840822 9.54127746 6.97476384]\n",
      " [6.62061201 0.36251765 1.68811029 0.76486408]\n",
      " [7.46343128 2.34598532 5.65182965 3.62010343]]\n",
      "\n",
      "Subtract 5: \n",
      "[[ 2.88087528  2.77840822  4.54127746  1.97476384]\n",
      " [ 1.62061201 -4.63748235 -3.31188971 -4.23513592]\n",
      " [ 2.46343128 -2.65401468  0.65182965 -1.37989657]]\n",
      "\n"
     ]
    }
   ],
   "source": [
    "array_2 = np.random.uniform(0,1,size=12).reshape(3,4)\n",
    "array_2_1 = array_2*10\n",
    "array_2_2 = array_2_1-5\n",
    "print(f'original array: \\n{array_2}\\n')\n",
    "print(f'Multiply by 10: \\n{array_2_1}\\n')\n",
    "print(f'Subtract 5: \\n{array_2_2}\\n')"
   ]
  },
  {
   "cell_type": "markdown",
   "metadata": {},
   "source": [
    "\n",
    "3. Create two 2D NumPy arrays with 2 rows and 3 columns each, filled with random integers between 1 and 5. Perform matrix multiplication on these arrays using the `@` operator.\n"
   ]
  },
  {
   "cell_type": "code",
   "execution_count": 114,
   "metadata": {},
   "outputs": [
    {
     "name": "stdout",
     "output_type": "stream",
     "text": [
      "a: \n",
      "[[3 1 3]\n",
      " [3 3 4]]\n",
      "b: \n",
      "[[4 4 2]\n",
      " [2 2 1]]\n",
      "a.T: \n",
      "[[3 3]\n",
      " [1 3]\n",
      " [3 4]]\n",
      "b.T: \n",
      "[[4 2]\n",
      " [4 2]\n",
      " [2 1]]\n",
      "Matrix multiplication a@b.T: \n",
      "[[22 11]\n",
      " [32 16]]\n",
      "Matrix multiplication a.T@b: \n",
      "[[18 18  9]\n",
      " [10 10  5]\n",
      " [20 20 10]]\n"
     ]
    }
   ],
   "source": [
    "a_2d = np.random.randint(1,5, size=(2,3))\n",
    "b_2d = np.random.randint(1,5, size=(2,3))\n",
    "\n",
    "print(f'a: \\n{a_2d}')\n",
    "print(f'b: \\n{b_2d}')\n",
    "print(f'a.T: \\n{a_2d.T}')\n",
    "print(f'b.T: \\n{b_2d.T}')\n",
    "\n",
    "c = a_2d @ b_2d.T\n",
    "d = a_2d.T @ b_2d\n",
    "print(f'Matrix multiplication a@b.T: \\n{c}')\n",
    "print(f'Matrix multiplication a.T@b: \\n{d}')\n"
   ]
  },
  {
   "cell_type": "markdown",
   "metadata": {},
   "source": [
    "\n",
    "4. Create a 2D NumPy array with 4 rows and 4 columns, filled with random integers between 1 and 10. Calculate the sum, mean, and standard deviation of all elements in the array.\n"
   ]
  },
  {
   "cell_type": "code",
   "execution_count": 123,
   "metadata": {},
   "outputs": [
    {
     "name": "stdout",
     "output_type": "stream",
     "text": [
      "[[9 2 2 9]\n",
      " [3 9 7 2]\n",
      " [3 3 7 7]\n",
      " [8 5 6 2]]\n",
      "sum: 84\n",
      "mean: 5.25\n",
      "standard deviation: 2.704163456597992\n"
     ]
    }
   ],
   "source": [
    "array_4 = np.random.randint(1,10, size=(4,4))\n",
    "print(array_4)\n",
    "\n",
    "sum = np.sum(array_4)\n",
    "mean = np.mean(array_4)\n",
    "stnd = np.std(array_4)\n",
    "print(f'sum: {sum}')\n",
    "print(f'mean: {mean}')\n",
    "print(f'standard deviation: {stnd}')\n",
    "\n"
   ]
  },
  {
   "cell_type": "markdown",
   "metadata": {},
   "source": [
    "\n",
    "5. Using the array from exercise 4, calculate the sum, mean, and standard deviation along each row and each column.\n"
   ]
  },
  {
   "cell_type": "code",
   "execution_count": 128,
   "metadata": {},
   "outputs": [
    {
     "name": "stdout",
     "output_type": "stream",
     "text": [
      "sum along rows: [22 21 20 21]\n",
      "sum along colums: [23 19 22 20]\n"
     ]
    }
   ],
   "source": [
    "sum_rows = np.sum(array_4, axis=1)\n",
    "print(f'sum along rows: {sum_rows}')\n",
    "\n",
    "sum_colums = np.sum(array_4, axis=0)\n",
    "print(f'sum along colums: {sum_colums}')"
   ]
  },
  {
   "cell_type": "markdown",
   "metadata": {},
   "source": [
    "\n",
    "6. Create a 1D NumPy array with 10 elements, filled with random integers between 1 and 100. Apply the following universal functions to the array: square root, natural logarithm, and exponential.\n"
   ]
  },
  {
   "cell_type": "code",
   "execution_count": 134,
   "metadata": {},
   "outputs": [
    {
     "name": "stdout",
     "output_type": "stream",
     "text": [
      "Original array: [77 91 50 53 36 38 60 85 90 11]\n",
      "\n",
      "Square root: [8.77496439 9.53939201 7.07106781 7.28010989 6.         6.164414\n",
      " 7.74596669 9.21954446 9.48683298 3.31662479]\n",
      "\n",
      "Natural log: [4.34380542 4.51085951 3.91202301 3.97029191 3.58351894 3.63758616\n",
      " 4.09434456 4.44265126 4.49980967 2.39789527]\n",
      "\n",
      "Exponential: [2.75851345e+33 3.31740010e+39 5.18470553e+21 1.04137594e+23\n",
      " 4.31123155e+15 3.18559318e+16 1.14200739e+26 8.22301271e+36\n",
      " 1.22040329e+39 5.98741417e+04]\n",
      "\n"
     ]
    }
   ],
   "source": [
    "array_6 = np.random.randint(1,100, size=10)\n",
    "print(f'Original array: {array_6}\\n')\n",
    "\n",
    "sqr_root = np.sqrt(array_6)\n",
    "print(f'Square root: {sqr_root}\\n')\n",
    "\n",
    "log_ = np.log(array_6)  \n",
    "print(f'Natural log: {log_}\\n')\n",
    "\n",
    "exp_ = np.exp(array_6)\n",
    "print(f'Exponential: {exp_}\\n')"
   ]
  },
  {
   "cell_type": "markdown",
   "metadata": {},
   "source": [
    "\n",
    "7. Create a 2D NumPy array with 3 rows and 3 columns, filled with random floats between -1 and 1. Apply the following universal functions to the array: absolute value, sine, and cosine.\n"
   ]
  },
  {
   "cell_type": "code",
   "execution_count": 136,
   "metadata": {},
   "outputs": [
    {
     "name": "stdout",
     "output_type": "stream",
     "text": [
      "[[-0.23954015  0.6952006  -0.97834558]\n",
      " [-0.7987995   0.31894897 -0.02005903]\n",
      " [ 0.3307896  -0.33692598 -0.64451656]]\n",
      "float64\n"
     ]
    }
   ],
   "source": [
    "array_7 = np.random.uniform(-1,1, size=(3,3))\n",
    "print(array_7)\n",
    "print(array_7.dtype)"
   ]
  },
  {
   "cell_type": "markdown",
   "metadata": {},
   "source": [
    "\n",
    "8. Create two 1D NumPy arrays with 6 elements each, filled with random integers between 1 and 10. Perform element-wise comparison operations on these arrays: greater than, less than, and equal to.\n"
   ]
  },
  {
   "cell_type": "code",
   "execution_count": 159,
   "metadata": {},
   "outputs": [
    {
     "name": "stdout",
     "output_type": "stream",
     "text": [
      "array 1: [3 3 9 3 2 3]\n",
      "array 2: [7 2 5 8 8 9]\n",
      "\n",
      "Greater than 3 in array 1: [9]\n",
      "Greater than 3 in array 2: [7 5 8 8 9]\n",
      "\n",
      "Less than 3 in array 1: [2]\n",
      "Less than 3 in array 2: [2]\n",
      "\n",
      "Equal to 3 in array 1: [3 3 3 3]\n",
      "Equal to 3 in array 2: []\n"
     ]
    }
   ],
   "source": [
    "array_8_1 = np.random.randint(1,10, size=6)\n",
    "array_8_2 = np.random.randint(1,10, size=6)\n",
    "print(f'array 1: {array_8_1}')\n",
    "print(f'array 2: {array_8_2}\\n')\n",
    "\n",
    "greater_1 = array_8_1[array_8_1>3]\n",
    "greater_2 = array_8_2[array_8_2>3]\n",
    "print(f'Greater than 3 in array 1: {greater_1}')\n",
    "print(f'Greater than 3 in array 2: {greater_2}\\n')\n",
    "\n",
    "less_1 = array_8_1[array_8_1<3]\n",
    "less_2 = array_8_2[array_8_2<3]\n",
    "print(f'Less than 3 in array 1: {less_1}')\n",
    "print(f'Less than 3 in array 2: {less_2}\\n')\n",
    "\n",
    "equal_1 = array_8_1[array_8_1==3]\n",
    "equal_2 = array_8_2[array_8_2==3]\n",
    "print(f'Equal to 3 in array 1: {equal_1}')\n",
    "print(f'Equal to 3 in array 2: {equal_2}')"
   ]
  },
  {
   "cell_type": "markdown",
   "metadata": {},
   "source": [
    "\n",
    "9. Create a 2D NumPy array with 5 rows and 5 columns, filled with random integers between 1 and 100. Find the maximum and minimum values in the array along each row and each column.\n"
   ]
  },
  {
   "cell_type": "code",
   "execution_count": 173,
   "metadata": {},
   "outputs": [
    {
     "name": "stdout",
     "output_type": "stream",
     "text": [
      "Array 1:\n",
      "[[13 35 56 37 21]\n",
      " [68 51 18 54 16]\n",
      " [61 89 80 91 66]\n",
      " [95 96 62 94 77]\n",
      " [36 17 19 34  2]]\n",
      "\n",
      "max in each row: [56 68 91 96 36]\n",
      "max in each colum: [95 96 80 94 77]\n",
      "min in each row: [13 16 61 62  2]\n",
      "min in each colum: [13 17 18 34  2]\n"
     ]
    }
   ],
   "source": [
    "array_9_1 = np.random.randint(1,100, size=(5,5))\n",
    "\n",
    "print(f\"Array 1:\\n{array_9_1}\\n\")\n",
    "\n",
    "maximun_rows = np.max(array_9_1,axis=1)\n",
    "print(f'max in each row: {maximun_rows}')\n",
    "\n",
    "maximun_colums = np.max(array_9_1,axis=0)\n",
    "print(f'max in each colum: {maximun_colums}')\n",
    "\n",
    "minimum_rows = np.min(array_9_1, axis=1)\n",
    "print(f'min in each row: {minimum_rows}')\n",
    "\n",
    "minimun_colums = np.min(array_9_1,axis=0)\n",
    "print(f'min in each colum: {minimun_colums}')"
   ]
  },
  {
   "cell_type": "markdown",
   "metadata": {},
   "source": [
    "\n",
    "10. Create a 1D NumPy array with 8 elements, filled with random integers between 1 and 20. Calculate the dot product of this array with itself.\n"
   ]
  },
  {
   "cell_type": "code",
   "execution_count": 205,
   "metadata": {},
   "outputs": [
    {
     "name": "stdout",
     "output_type": "stream",
     "text": [
      "[19  9  7  9 11 18  5  9]\n",
      "1123\n"
     ]
    }
   ],
   "source": [
    "array_11 = np.random.randint(1,20, size=8)\n",
    "print(array_11)\n",
    "dot_ = np.dot(array_11, array_11)\n",
    "print(dot_)"
   ]
  },
  {
   "cell_type": "markdown",
   "metadata": {},
   "source": [
    "\n",
    "11. Create a 2D NumPy array with 4 rows and 4 columns, filled with random floats between 0 and 1. Apply the following universal functions to the array: ceil, floor, and round.\n"
   ]
  },
  {
   "cell_type": "code",
   "execution_count": 210,
   "metadata": {},
   "outputs": [
    {
     "name": "stdout",
     "output_type": "stream",
     "text": [
      "array:\n",
      "[[0.53224948 0.33848533 0.01702459 0.59528498]\n",
      " [0.44275392 0.46409216 0.44086453 0.85270349]\n",
      " [0.24428839 0.57443699 0.34832645 0.8312474 ]\n",
      " [0.27513657 0.91536938 0.90956746 0.45484024]]\n",
      "\n",
      "ceil:\n",
      "[[1. 1. 1. 1.]\n",
      " [1. 1. 1. 1.]\n",
      " [1. 1. 1. 1.]\n",
      " [1. 1. 1. 1.]]\n",
      "\n",
      "floor:\n",
      "[[0. 0. 0. 0.]\n",
      " [0. 0. 0. 0.]\n",
      " [0. 0. 0. 0.]\n",
      " [0. 0. 0. 0.]]\n",
      "\n",
      "round:\n",
      "[[1. 0. 0. 1.]\n",
      " [0. 0. 0. 1.]\n",
      " [0. 1. 0. 1.]\n",
      " [0. 1. 1. 0.]]\n"
     ]
    }
   ],
   "source": [
    "array_11 = np.random.uniform(0,1,size=(4,4))\n",
    "print(f'array:\\n{array_11}\\n')\n",
    "ceil_ = np.ceil(array_11)\n",
    "print(f'ceil:\\n{ceil_}\\n' )\n",
    "\n",
    "floor_ = np.floor(array_11)\n",
    "print(f'floor:\\n{floor_}\\n' )\n",
    "\n",
    "round_ = np.round(array_11)\n",
    "print(f'round:\\n{round_}')"
   ]
  },
  {
   "cell_type": "markdown",
   "metadata": {},
   "source": [
    "\n",
    "12. Create two 2D NumPy arrays with 3 rows and 3 columns each, filled with random integers between 1 and 10. Perform element-wise addition, subtraction, multiplication, and division on these arrays.\n"
   ]
  },
  {
   "cell_type": "code",
   "execution_count": 222,
   "metadata": {},
   "outputs": [
    {
     "name": "stdout",
     "output_type": "stream",
     "text": [
      "array 1:\n",
      "[[2 2 1]\n",
      " [1 4 1]\n",
      " [9 1 9]]\n",
      "\n",
      "array 2:\n",
      "[[7 5 9]\n",
      " [2 8 5]\n",
      " [8 4 5]]\n",
      "\n",
      "Addition array 1 + array 2:\n",
      "[[ 9  7 10]\n",
      " [ 3 12  6]\n",
      " [17  5 14]]\n",
      "\n",
      "subtraction array 1 - array 2:\n",
      "[[-5 -3 -8]\n",
      " [-1 -4 -4]\n",
      " [ 1 -3  4]]\n",
      "\n",
      "multiplication array 1 * array 2:\n",
      "[[14 10  9]\n",
      " [ 2 32  5]\n",
      " [72  4 45]]\n",
      "\n",
      "division array 1 / array 2:\n",
      "[[0.28571429 0.4        0.11111111]\n",
      " [0.5        0.5        0.2       ]\n",
      " [1.125      0.25       1.8       ]]\n",
      "\n"
     ]
    }
   ],
   "source": [
    "array_12_1 = np.random.randint(1,10, size=(3,3))\n",
    "array_12_2 = np.random.randint(1,10, size=(3,3))\n",
    "print(f\"array 1:\\n{array_12_1}\\n\")\n",
    "print(f\"array 2:\\n{array_12_2}\\n\")\n",
    "\n",
    "adition = array_12_1 + array_12_2\n",
    "print(f'Addition array 1 + array 2:\\n{adition}\\n')\n",
    "\n",
    "subtraction = array_12_1 - array_12_2 \n",
    "print(f'subtraction array 1 - array 2:\\n{subtraction}\\n')\n",
    "\n",
    "multiplication = array_12_1 * array_12_2\n",
    "print(f'multiplication array 1 * array 2:\\n{multiplication}\\n')\n",
    "\n",
    "division = array_12_1 / array_12_2\n",
    "print(f'division array 1 / array 2:\\n{division}\\n')"
   ]
  },
  {
   "cell_type": "markdown",
   "metadata": {},
   "source": [
    "\n",
    "13. Create a 1D NumPy array with 7 elements, filled with random integers between 1 and 100. Calculate the sum of the array using a Python loop and compare the execution time with the NumPy `sum()` function using the `%%timeit` magic command.\n"
   ]
  },
  {
   "cell_type": "code",
   "execution_count": 287,
   "metadata": {},
   "outputs": [
    {
     "name": "stdout",
     "output_type": "stream",
     "text": [
      "[19 84 95 24 23 61 13]\n",
      "Sum of elements in array: 319\n",
      "Wall time: 0 ns\n"
     ]
    }
   ],
   "source": [
    "%%time\n",
    "array_13 = np.random.randint(1,100, size=7)\n",
    "print(array_13)\n",
    "\n",
    "sum = 0\n",
    "for i in array_13:\n",
    "    sum = sum + i\n",
    "print(f'Sum of elements in array: {sum}')   "
   ]
  },
  {
   "cell_type": "code",
   "execution_count": 286,
   "metadata": {},
   "outputs": [
    {
     "name": "stdout",
     "output_type": "stream",
     "text": [
      "[84 98 17 59  1 24 24]\n",
      "Sum of elements in array: 307\n",
      "Wall time: 996 µs\n"
     ]
    }
   ],
   "source": [
    "%%time\n",
    "array_13 = np.random.randint(1,100, size=7)\n",
    "print(array_13)\n",
    "\n",
    "sum_ = np.sum(array_13)\n",
    "print(f'Sum of elements in array: {sum_}')   \n"
   ]
  },
  {
   "cell_type": "markdown",
   "metadata": {},
   "source": [
    "\n",
    "14. Create a 2D NumPy array with 6 rows and 6 columns, filled with random floats between -10 and 10. Apply the following universal functions to the array: hyperbolic sine, hyperbolic cosine, and hyperbolic tangent. (Practice those look up skills!)\n"
   ]
  },
  {
   "cell_type": "code",
   "execution_count": 294,
   "metadata": {},
   "outputs": [
    {
     "name": "stdout",
     "output_type": "stream",
     "text": [
      "[[ 0.15503901  6.01875738 -9.97024445  6.69198248 -6.5925969  -3.3877225 ]\n",
      " [-2.35990025  8.99124622  5.47204716 -7.34176466 -2.98643223 -7.4407103 ]\n",
      " [ 4.0964135   5.08001971 -7.56715953 -4.8606774   9.35060158 -7.41639267]\n",
      " [ 4.37364677 -2.60578468  8.12039594 -4.76959583  3.26912001  6.09518153]\n",
      " [-5.48203468  7.61088394  1.78301462 -2.04385175  4.24656086 -0.01334477]\n",
      " [ 9.33703875  2.1610669   5.68133726 -9.75385558 -8.4327021   1.03147885]]\n",
      "[[1.01204264e+00 2.05534955e+02 1.06903556e+04 4.02959812e+02\n",
      "  3.64837335e+02 1.48161252e+01]\n",
      " [5.34216236e+00 4.01623052e+03 1.18975506e+02 7.71716994e+02\n",
      "  9.93266431e+00 8.51980348e+02]\n",
      " [3.00704485e+01 8.03917221e+01 9.66820277e+02 6.45596887e+01\n",
      "  5.75287152e+03 8.31512101e+02]\n",
      " [3.96725086e+01 6.80784613e+00 1.68117603e+03 5.89400380e+01\n",
      "  1.31631178e+01 2.21858419e+02]\n",
      " [1.20169688e+02 1.01003171e+03 3.05794509e+00 3.92490873e+00\n",
      "  3.49395187e+01 1.00008904e+00]\n",
      " [5.67537306e+03 4.39779801e+00 1.46672425e+02 8.61024803e+03\n",
      "  2.29744972e+03 1.58084532e+00]]\n",
      "[[ 1.55660870e-01  2.05532523e+02 -1.06903555e+04  4.02958571e+02\n",
      "  -3.64835964e+02 -1.47823397e+01]\n",
      " [-5.24773271e+00  4.01623039e+03  1.18971303e+02 -7.71716346e+02\n",
      "  -9.88219713e+00 -8.51979761e+02]\n",
      " [ 3.00538163e+01  8.03855023e+01 -9.66819759e+02 -6.45519435e+01\n",
      "   5.75287143e+03 -8.31511500e+02]\n",
      " [ 3.96599034e+01 -6.73400096e+00  1.68117573e+03 -5.89315542e+01\n",
      "   1.31250779e+01  2.21856165e+02]\n",
      " [-1.20165527e+02  1.01003122e+03  2.88981456e+00 -3.79537989e+00\n",
      "   3.49252053e+01 -1.33451654e-02]\n",
      " [ 5.67537297e+03  4.28259586e+00  1.46669016e+02 -8.61024797e+03\n",
      "  -2.29744951e+03  1.22436593e+00]]\n",
      "[[ 0.15380861  0.99998816 -1.          0.99999692 -0.99999624 -0.99771968]\n",
      " [-0.9823237   0.99999997  0.99996468 -0.99999916 -0.99491907 -0.99999931]\n",
      " [ 0.99944689  0.99992263 -0.99999947 -0.99988003  0.99999998 -0.99999928]\n",
      " [ 0.99968227 -0.98915293  0.99999982 -0.99985606  0.99711012  0.99998984]\n",
      " [-0.99996538  0.99999951  0.94501846 -0.96699826  0.99959034 -0.01334398]\n",
      " [ 0.99999998  0.97380458  0.99997676 -0.99999999 -0.99999991  0.77450078]]\n"
     ]
    }
   ],
   "source": [
    "array_14 = np.random.uniform(-10,10, size=(6,6))\n",
    "print(array_14)\n",
    "\n",
    "cosh_ = np.cosh(array_14)\n",
    "sinh_ = np.sinh(array_14)\n",
    "tanh_ = np.tanh(array_14)\n",
    "print(cosh_)\n",
    "print(sinh_)\n",
    "print(tanh_)"
   ]
  },
  {
   "cell_type": "markdown",
   "metadata": {},
   "source": [
    "\n",
    "15. Create two 1D NumPy arrays with 100 elements each, filled with random floats between 0 and 1. Perform element-wise multiplication on these arrays using a Python loop and compare the execution time with the NumPy element-wise multiplication using the `%%timeit` magic command."
   ]
  },
  {
   "cell_type": "code",
   "execution_count": null,
   "metadata": {},
   "outputs": [
    {
     "name": "stdout",
     "output_type": "stream",
     "text": [
      "[0.11935679 0.26200167 0.29992915 ... 0.08924967 0.28077786 0.06394613]\n",
      "Wall time: 6.02 ms\n"
     ]
    }
   ],
   "source": [
    "%%time\n",
    "array_15_1 = np.random.uniform(0,1, size=100000) # made it to 100k element to see the difference in %%time\n",
    "array_15_2 = np.random.uniform(0,1, size=100000)\n",
    "\n",
    "elem_mult = (array_15_1 * array_15_2)\n",
    "print(elem_mult)\n"
   ]
  },
  {
   "cell_type": "code",
   "execution_count": null,
   "metadata": {},
   "outputs": [
    {
     "name": "stdout",
     "output_type": "stream",
     "text": [
      "[0.58995696 0.12480885 0.37750536 ... 0.24069885 0.26389501 0.21648547]\n",
      "Wall time: 58.6 ms\n"
     ]
    }
   ],
   "source": [
    "%%time\n",
    "array_15_1 = np.random.uniform(0,1, size=100000) # made it to 100k element to see the difference in %%time\n",
    "array_15_2 = np.random.uniform(0,1, size=100000)\n",
    "\n",
    "result_loop = []\n",
    "for i in range(len(array_15_1)):\n",
    "    result_loop.append(array_15_1[i] * array_15_2[i])\n",
    "\n",
    "result_array = np.array(result_loop)\n",
    "print(result_array)"
   ]
  }
 ],
 "metadata": {
  "kernelspec": {
   "display_name": "venv_dsml",
   "language": "python",
   "name": "python3"
  },
  "language_info": {
   "codemirror_mode": {
    "name": "ipython",
    "version": 3
   },
   "file_extension": ".py",
   "mimetype": "text/x-python",
   "name": "python",
   "nbconvert_exporter": "python",
   "pygments_lexer": "ipython3",
   "version": "3.7.9"
  }
 },
 "nbformat": 4,
 "nbformat_minor": 2
}
