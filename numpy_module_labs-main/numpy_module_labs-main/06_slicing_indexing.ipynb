{
 "cells": [
  {
   "cell_type": "markdown",
   "metadata": {},
   "source": [
    "# 06 - NumPy Slicing Exercises\n",
    "\n",
    "**Note**: If any exercises require techniques we haven't covered yet - you should look this up! It's part of the learning process, we need to build the muscle of learning how to do things we haven't seen before.\n",
    "\n",
    "Don't be shy, ask for help on Discord!\n",
    "\n",
    "1. Create a 1D NumPy array with 10 elements and print the 5th element.\n"
   ]
  },
  {
   "cell_type": "code",
   "execution_count": 65,
   "metadata": {},
   "outputs": [
    {
     "name": "stdout",
     "output_type": "stream",
     "text": [
      "[ 1  2  3  4  5  6  7  8  9 10]\n",
      "6\n",
      "[ 1  2  3  4  5  6  7  8  9 10]\n",
      "6\n"
     ]
    }
   ],
   "source": [
    "import numpy as np\n",
    "\n",
    "array_1 = np.array([1,2,3,4,5,6,7,8,9,10])\n",
    "print(array_1)\n",
    "print(array_1[5])\n",
    "\n",
    "b = np.arange(1,11)\n",
    "print(b)\n",
    "print(b[5])"
   ]
  },
  {
   "cell_type": "markdown",
   "metadata": {},
   "source": [
    "\n",
    "2. Create a 1D NumPy array with 10 elements and print the last 3 elements using negative indexing.\n"
   ]
  },
  {
   "cell_type": "code",
   "execution_count": 10,
   "metadata": {},
   "outputs": [
    {
     "name": "stdout",
     "output_type": "stream",
     "text": [
      "[ 8  9 10]\n"
     ]
    }
   ],
   "source": [
    "a = np.arange(1,11)\n",
    "print(a[-3:])  # prints last three elements"
   ]
  },
  {
   "cell_type": "markdown",
   "metadata": {},
   "source": [
    "\n",
    "3. Create a 1D NumPy array with 10 elements and print every other element starting from the 2nd element.\n"
   ]
  },
  {
   "cell_type": "code",
   "execution_count": 13,
   "metadata": {},
   "outputs": [
    {
     "name": "stdout",
     "output_type": "stream",
     "text": [
      "[3 5 7 9]\n"
     ]
    }
   ],
   "source": [
    "a = np.arange(1,11)\n",
    "print(a[2::2])"
   ]
  },
  {
   "cell_type": "markdown",
   "metadata": {},
   "source": [
    "\n",
    "4. Create a 2D NumPy array with 4 rows and 5 columns. Print the element at the 3rd row and 4th column.\n"
   ]
  },
  {
   "cell_type": "code",
   "execution_count": 16,
   "metadata": {},
   "outputs": [
    {
     "name": "stdout",
     "output_type": "stream",
     "text": [
      "a: \n",
      "[[ 1  2  3  4  5]\n",
      " [ 6  7  8  9 10]\n",
      " [11 12 13 14 15]\n",
      " [16 17 18 19 20]]\n",
      "14\n"
     ]
    }
   ],
   "source": [
    "a = np.arange(1,21).reshape(4,5)\n",
    "print(f'a: \\n{a}')\n",
    "print(a[2,3])"
   ]
  },
  {
   "cell_type": "markdown",
   "metadata": {},
   "source": [
    "\n",
    "5. Create a 2D NumPy array with 4 rows and 5 columns. Print the 2nd and 3rd rows.\n"
   ]
  },
  {
   "cell_type": "code",
   "execution_count": 20,
   "metadata": {},
   "outputs": [
    {
     "name": "stdout",
     "output_type": "stream",
     "text": [
      "[[ 1  2  3  4  5]\n",
      " [ 6  7  8  9 10]\n",
      " [11 12 13 14 15]\n",
      " [16 17 18 19 20]]\n",
      "second row: [ 6  7  8  9 10]\n",
      "third row: [11 12 13 14 15]\n"
     ]
    }
   ],
   "source": [
    "a = np.arange(1,21).reshape(4,5)    \n",
    "print(a)\n",
    "print(f'second row: {a[1]}')\n",
    "print(f'third row: {a[2]}')\n"
   ]
  },
  {
   "cell_type": "markdown",
   "metadata": {},
   "source": [
    "\n",
    "6. Create a 2D NumPy array with 4 rows and 5 columns. Print the 2nd and 4th columns.\n"
   ]
  },
  {
   "cell_type": "code",
   "execution_count": 39,
   "metadata": {},
   "outputs": [
    {
     "name": "stdout",
     "output_type": "stream",
     "text": [
      "[[ 2  4]\n",
      " [ 7  9]\n",
      " [12 14]\n",
      " [17 19]]\n",
      "[[ 1  2  3  4  5]\n",
      " [ 6  7  8  9 10]\n",
      " [11 12 13 14 15]\n",
      " [16 17 18 19 20]]\n"
     ]
    }
   ],
   "source": [
    "a = np.arange(1,21).reshape(4,5)\n",
    "print(a[0:,1::2])\n",
    "print(a)"
   ]
  },
  {
   "cell_type": "markdown",
   "metadata": {},
   "source": [
    "\n",
    "7. Create a 2D NumPy array with 4 rows and 5 columns. Print a subarray consisting of the first 2 rows and the last 2 columns.\n"
   ]
  },
  {
   "cell_type": "code",
   "execution_count": 32,
   "metadata": {},
   "outputs": [
    {
     "name": "stdout",
     "output_type": "stream",
     "text": [
      "[[ 1  2  3  4  5]\n",
      " [ 6  7  8  9 10]\n",
      " [11 12 13 14 15]\n",
      " [16 17 18 19 20]]\n",
      "\n",
      "subarray:\n",
      " [[ 4  5]\n",
      " [ 9 10]]\n"
     ]
    }
   ],
   "source": [
    "a = np.arange(1,21).reshape(4,5)\n",
    "print(a)    \n",
    "\n",
    "sub_a = a[0:2,3:5]\n",
    "print(f'\\nsubarray:\\n {sub_a}')"
   ]
  },
  {
   "cell_type": "markdown",
   "metadata": {},
   "source": [
    "\n",
    "8. Create a 1D NumPy array with 10 elements. Assign the value 99 to the 3rd and 4th elements.\n"
   ]
  },
  {
   "cell_type": "code",
   "execution_count": 36,
   "metadata": {},
   "outputs": [
    {
     "name": "stdout",
     "output_type": "stream",
     "text": [
      "[ 1  2 99 99  5  6  7  8  9 10]\n"
     ]
    }
   ],
   "source": [
    "a = np.arange(1,11)\n",
    "a[2:4]= 99\n",
    "print(a)"
   ]
  },
  {
   "cell_type": "markdown",
   "metadata": {},
   "source": [
    "\n",
    "9. Create a 2D NumPy array with 4 rows and 5 columns. Assign the value 0 to the elements in the 2nd and 3rd columns.\n"
   ]
  },
  {
   "cell_type": "code",
   "execution_count": 39,
   "metadata": {},
   "outputs": [
    {
     "name": "stdout",
     "output_type": "stream",
     "text": [
      "[[ 1  0  0  4  5]\n",
      " [ 6  0  0  9 10]\n",
      " [11  0  0 14 15]\n",
      " [16  0  0 19 20]]\n"
     ]
    }
   ],
   "source": [
    "a = np.arange(1,21).reshape(4,5)\n",
    "a[:,1:3]=0\n",
    "print(a)"
   ]
  },
  {
   "cell_type": "markdown",
   "metadata": {},
   "source": [
    "\n",
    "10. Create a 1D NumPy array with 15 random integers between 1 and 100. Use boolean indexing to print all the elements that are greater than 50.\n"
   ]
  },
  {
   "cell_type": "code",
   "execution_count": 58,
   "metadata": {},
   "outputs": [
    {
     "name": "stdout",
     "output_type": "stream",
     "text": [
      "array:\n",
      "[17 79 94 98 85 74 27 43 45 66 84  5 47 69  2]\n",
      "boolean indexing:\n",
      "[False  True  True  True  True  True False False False  True  True False\n",
      " False  True False]\n",
      "elements that area greater than 50:\n",
      "[79 94 98 85 74 66 84 69]\n"
     ]
    }
   ],
   "source": [
    "a = np.random.randint(1,101, size=15)\n",
    "print(f'array:\\n{a}')\n",
    "mask = a>50\n",
    "print(f'boolean indexing:\\n{mask}')\n",
    "print(f'elements that area greater than 50:\\n{a[mask]}')"
   ]
  },
  {
   "cell_type": "markdown",
   "metadata": {},
   "source": [
    "\n",
    "11. Create a 2D NumPy array with 5 rows and 5 columns filled with random integers between 1 and 100. Use boolean indexing to print all the elements that are divisible by 3.\n"
   ]
  },
  {
   "cell_type": "code",
   "execution_count": 63,
   "metadata": {},
   "outputs": [
    {
     "name": "stdout",
     "output_type": "stream",
     "text": [
      "array:\n",
      "[[ 59  63  16  10  81]\n",
      " [ 17  56  59  35  39]\n",
      " [ 52  22  78  99  51]\n",
      " [ 74  87  31  18   5]\n",
      " [100  10  11   8  43]] \n",
      "\n",
      "[[False  True False False  True]\n",
      " [False False False False  True]\n",
      " [False False  True  True  True]\n",
      " [False  True False  True False]\n",
      " [False False False False False]]\n",
      "\n",
      "Numbers that are divisible by 3:\n",
      "[63 81 39 78 99 51 87 18]\n"
     ]
    }
   ],
   "source": [
    "a = np.random.randint(1,101, size=(5,5))\n",
    "mask = a%3==0\n",
    "print(f'array:\\n{a} \\n')\n",
    "print(mask)\n",
    "print(f'\\nNumbers that are divisible by 3:\\n{a[mask]}')"
   ]
  },
  {
   "cell_type": "markdown",
   "metadata": {},
   "source": [
    "\n",
    "12. Create two 1D NumPy arrays with 10 random integers between 1 and 100. Use boolean indexing to print the elements from the first array that are greater than the corresponding elements in the second array.\n"
   ]
  },
  {
   "cell_type": "code",
   "execution_count": 72,
   "metadata": {},
   "outputs": [
    {
     "name": "stdout",
     "output_type": "stream",
     "text": [
      "array 1:\n",
      "[32 79 85 44 73  8 57 62 14 56] \n",
      "\n",
      "array 2:\n",
      "[90 13 11  9 55 80 94 71  3 69] \n",
      "\n",
      "boolean indexing:\n",
      "[False  True  True  True  True False False False  True False] \n",
      "\n",
      "Elements greater in the first array:\n",
      "[79 85 44 73 14]\n"
     ]
    }
   ],
   "source": [
    "a = np.random.randint(1,101, size = 10)\n",
    "print(f'array 1:\\n{a} \\n')\n",
    "\n",
    "b = np.random.randint(1,101, size = 10)\n",
    "print(f'array 2:\\n{b} \\n')\n",
    "\n",
    "mask = a>b\n",
    "print(f'boolean indexing:\\n{mask} \\n')      \n",
    "\n",
    "print(f'Elements greater in the first array:\\n{a[mask]}')"
   ]
  },
  {
   "cell_type": "markdown",
   "metadata": {},
   "source": [
    "\n",
    "13. Create a 2D NumPy array with 6 rows and 6 columns filled with random integers between 1 and 100. Use boolean indexing to print the rows where the sum of the elements in the row is greater than 300.\n"
   ]
  },
  {
   "cell_type": "code",
   "execution_count": 99,
   "metadata": {},
   "outputs": [
    {
     "name": "stdout",
     "output_type": "stream",
     "text": [
      "array a:\n",
      "[[ 38  36  24  90  35  34]\n",
      " [ 90  21  88  10  82  43]\n",
      " [ 69  24  68  51 100  62]\n",
      " [ 77  76  39  95  60   2]\n",
      " [ 69  54   8  96  55   6]\n",
      " [  8  35  96  44  13  52]]\n",
      "\n",
      "sum along rows: [257 334 374 349 288 248]\n",
      "rows where the result is greater than 300:\n",
      "[[ 90  21  88  10  82  43]\n",
      " [ 69  24  68  51 100  62]\n",
      " [ 77  76  39  95  60   2]]\n"
     ]
    }
   ],
   "source": [
    "a = np.random.randint(1,101,size=(6,6))\n",
    "print(f'array a:\\n{a}\\n')\n",
    "\n",
    "sum_rows = np.sum(a, axis=1)\n",
    "print(f'sum along rows: {sum_rows}')\n",
    "\n",
    "mask = sum_rows > 300\n",
    "\n",
    "print(f'rows where the result is greater than 300:\\n{a[mask]}')"
   ]
  },
  {
   "cell_type": "markdown",
   "metadata": {},
   "source": [
    "\n",
    "14. Create a 1D NumPy array with 20 random integers between 1 and 100. Use integer array indexing to print the elements at indices 2, 5, and 9.\n"
   ]
  },
  {
   "cell_type": "code",
   "execution_count": null,
   "metadata": {},
   "outputs": [
    {
     "name": "stdout",
     "output_type": "stream",
     "text": [
      "array:\n",
      "[85 94 97 88 57  5 79 62 23  7 82 91 22 35  6 89 12 33 52 38]\n",
      "\n",
      "elements at indices 2,5,9:\n",
      "[97  5  7]\n"
     ]
    }
   ],
   "source": [
    "a = np.random.randint(1,101, size=20)\n",
    "indices = [2,5,9]\n",
    "print(f'array:\\n{a}\\n')\n",
    "print(f'elements at indices 2,5,9:\\n{a[indices]}')"
   ]
  },
  {
   "cell_type": "markdown",
   "metadata": {},
   "source": [
    "\n",
    "15. Create a 2D NumPy array with 5 rows and 5 columns filled with random integers between 1 and 100. Use integer array indexing to print the elements at (1, 1), (2, 3), and (4, 4) in a single array."
   ]
  },
  {
   "cell_type": "code",
   "execution_count": null,
   "metadata": {},
   "outputs": [],
   "source": []
  }
 ],
 "metadata": {
  "kernelspec": {
   "display_name": "venv_dsml",
   "language": "python",
   "name": "python3"
  },
  "language_info": {
   "codemirror_mode": {
    "name": "ipython",
    "version": 3
   },
   "file_extension": ".py",
   "mimetype": "text/x-python",
   "name": "python",
   "nbconvert_exporter": "python",
   "pygments_lexer": "ipython3",
   "version": "3.7.9"
  }
 },
 "nbformat": 4,
 "nbformat_minor": 2
}
